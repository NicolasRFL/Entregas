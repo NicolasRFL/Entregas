{
 "cells": [
  {
   "cell_type": "code",
   "execution_count": 1,
   "id": "262a9624",
   "metadata": {},
   "outputs": [],
   "source": [
    "import pandas as pd\n",
    "import seaborn as sns\n",
    "import numpy as np"
   ]
  },
  {
   "cell_type": "code",
   "execution_count": 2,
   "id": "ff7b6900",
   "metadata": {
    "scrolled": true
   },
   "outputs": [
    {
     "name": "stdout",
     "output_type": "stream",
     "text": [
      "<class 'pandas.core.frame.DataFrame'>\n",
      "RangeIndex: 5 entries, 0 to 4\n",
      "Data columns (total 24 columns):\n",
      " #   Column                 Non-Null Count  Dtype  \n",
      "---  ------                 --------------  -----  \n",
      " 0   adult                  5 non-null      bool   \n",
      " 1   belongs_to_collection  3 non-null      object \n",
      " 2   budget                 5 non-null      int64  \n",
      " 3   genres                 5 non-null      object \n",
      " 4   homepage               1 non-null      object \n",
      " 5   id                     5 non-null      int64  \n",
      " 6   imdb_id                5 non-null      object \n",
      " 7   original_language      5 non-null      object \n",
      " 8   original_title         5 non-null      object \n",
      " 9   overview               5 non-null      object \n",
      " 10  popularity             5 non-null      float64\n",
      " 11  poster_path            5 non-null      object \n",
      " 12  production_companies   5 non-null      object \n",
      " 13  production_countries   5 non-null      object \n",
      " 14  release_date           5 non-null      object \n",
      " 15  revenue                5 non-null      float64\n",
      " 16  runtime                5 non-null      float64\n",
      " 17  spoken_languages       5 non-null      object \n",
      " 18  status                 5 non-null      object \n",
      " 19  tagline                4 non-null      object \n",
      " 20  title                  5 non-null      object \n",
      " 21  video                  5 non-null      bool   \n",
      " 22  vote_average           5 non-null      float64\n",
      " 23  vote_count             5 non-null      float64\n",
      "dtypes: bool(2), float64(5), int64(2), object(15)\n",
      "memory usage: 1018.0+ bytes\n"
     ]
    }
   ],
   "source": [
    "movies = pd.read_csv(r\"C:\\Users\\Nicolas\\Downloads\\Movie dataset\\Movie dataset\\movies.csv\",nrows=5)\n",
    "movies.info()"
   ]
  },
  {
   "cell_type": "code",
   "execution_count": 3,
   "id": "042fc800",
   "metadata": {
    "scrolled": true
   },
   "outputs": [
    {
     "name": "stdout",
     "output_type": "stream",
     "text": [
      "<class 'pandas.core.frame.DataFrame'>\n",
      "RangeIndex: 45466 entries, 0 to 45465\n",
      "Data columns (total 6 columns):\n",
      " #   Column             Non-Null Count  Dtype  \n",
      "---  ------             --------------  -----  \n",
      " 0   budget             45466 non-null  object \n",
      " 1   original_language  45455 non-null  object \n",
      " 2   overview           44512 non-null  object \n",
      " 3   revenue            45460 non-null  float64\n",
      " 4   spoken_languages   45460 non-null  object \n",
      " 5   title              45460 non-null  object \n",
      "dtypes: float64(1), object(5)\n",
      "memory usage: 2.1+ MB\n"
     ]
    }
   ],
   "source": [
    "movies = pd.read_csv(r\"C:\\Users\\Nicolas\\Downloads\\Movie dataset\\Movie dataset\\movies.csv\",usecols=['title','budget','revenue','overview','original_language','spoken_languages'])\n",
    "movies.info()"
   ]
  },
  {
   "cell_type": "code",
   "execution_count": 4,
   "id": "d3368403",
   "metadata": {},
   "outputs": [
    {
     "data": {
      "text/html": [
       "<div>\n",
       "<style scoped>\n",
       "    .dataframe tbody tr th:only-of-type {\n",
       "        vertical-align: middle;\n",
       "    }\n",
       "\n",
       "    .dataframe tbody tr th {\n",
       "        vertical-align: top;\n",
       "    }\n",
       "\n",
       "    .dataframe thead th {\n",
       "        text-align: right;\n",
       "    }\n",
       "</style>\n",
       "<table border=\"1\" class=\"dataframe\">\n",
       "  <thead>\n",
       "    <tr style=\"text-align: right;\">\n",
       "      <th></th>\n",
       "      <th>budget</th>\n",
       "      <th>original_language</th>\n",
       "      <th>overview</th>\n",
       "      <th>revenue</th>\n",
       "      <th>spoken_languages</th>\n",
       "      <th>title</th>\n",
       "    </tr>\n",
       "  </thead>\n",
       "  <tbody>\n",
       "    <tr>\n",
       "      <th>2</th>\n",
       "      <td>0</td>\n",
       "      <td>en</td>\n",
       "      <td>A family wedding reignites the ancient feud be...</td>\n",
       "      <td>0.0</td>\n",
       "      <td>[{'iso_639_1': 'en', 'name': 'English'}]</td>\n",
       "      <td>Grumpier Old Men</td>\n",
       "    </tr>\n",
       "    <tr>\n",
       "      <th>6</th>\n",
       "      <td>58000000</td>\n",
       "      <td>en</td>\n",
       "      <td>An ugly duckling having undergone a remarkable...</td>\n",
       "      <td>0.0</td>\n",
       "      <td>[{'iso_639_1': 'fr', 'name': 'Français'}, {'is...</td>\n",
       "      <td>Sabrina</td>\n",
       "    </tr>\n",
       "    <tr>\n",
       "      <th>7</th>\n",
       "      <td>0</td>\n",
       "      <td>en</td>\n",
       "      <td>A mischievous young boy, Tom Sawyer, witnesses...</td>\n",
       "      <td>0.0</td>\n",
       "      <td>[{'iso_639_1': 'en', 'name': 'English'}, {'iso...</td>\n",
       "      <td>Tom and Huck</td>\n",
       "    </tr>\n",
       "    <tr>\n",
       "      <th>11</th>\n",
       "      <td>0</td>\n",
       "      <td>en</td>\n",
       "      <td>When a lawyer shows up at the vampire's doorst...</td>\n",
       "      <td>0.0</td>\n",
       "      <td>[{'iso_639_1': 'en', 'name': 'English'}, {'iso...</td>\n",
       "      <td>Dracula: Dead and Loving It</td>\n",
       "    </tr>\n",
       "    <tr>\n",
       "      <th>21</th>\n",
       "      <td>0</td>\n",
       "      <td>en</td>\n",
       "      <td>An agoraphobic psychologist and a female detec...</td>\n",
       "      <td>0.0</td>\n",
       "      <td>[{'iso_639_1': 'en', 'name': 'English'}, {'iso...</td>\n",
       "      <td>Copycat</td>\n",
       "    </tr>\n",
       "    <tr>\n",
       "      <th>...</th>\n",
       "      <td>...</td>\n",
       "      <td>...</td>\n",
       "      <td>...</td>\n",
       "      <td>...</td>\n",
       "      <td>...</td>\n",
       "      <td>...</td>\n",
       "    </tr>\n",
       "    <tr>\n",
       "      <th>45461</th>\n",
       "      <td>0</td>\n",
       "      <td>fa</td>\n",
       "      <td>Rising and falling between a man and woman.</td>\n",
       "      <td>0.0</td>\n",
       "      <td>[{'iso_639_1': 'fa', 'name': 'فارسی'}]</td>\n",
       "      <td>Subdue</td>\n",
       "    </tr>\n",
       "    <tr>\n",
       "      <th>45462</th>\n",
       "      <td>0</td>\n",
       "      <td>tl</td>\n",
       "      <td>An artist struggles to finish his work while a...</td>\n",
       "      <td>0.0</td>\n",
       "      <td>[{'iso_639_1': 'tl', 'name': ''}]</td>\n",
       "      <td>Century of Birthing</td>\n",
       "    </tr>\n",
       "    <tr>\n",
       "      <th>45463</th>\n",
       "      <td>0</td>\n",
       "      <td>en</td>\n",
       "      <td>When one of her hits goes wrong, a professiona...</td>\n",
       "      <td>0.0</td>\n",
       "      <td>[{'iso_639_1': 'en', 'name': 'English'}]</td>\n",
       "      <td>Betrayal</td>\n",
       "    </tr>\n",
       "    <tr>\n",
       "      <th>45464</th>\n",
       "      <td>0</td>\n",
       "      <td>en</td>\n",
       "      <td>In a small town live two brothers, one a minis...</td>\n",
       "      <td>0.0</td>\n",
       "      <td>[]</td>\n",
       "      <td>Satan Triumphant</td>\n",
       "    </tr>\n",
       "    <tr>\n",
       "      <th>45465</th>\n",
       "      <td>0</td>\n",
       "      <td>en</td>\n",
       "      <td>50 years after decriminalisation of homosexual...</td>\n",
       "      <td>0.0</td>\n",
       "      <td>[{'iso_639_1': 'en', 'name': 'English'}]</td>\n",
       "      <td>Queerama</td>\n",
       "    </tr>\n",
       "  </tbody>\n",
       "</table>\n",
       "<p>38052 rows × 6 columns</p>\n",
       "</div>"
      ],
      "text/plain": [
       "         budget original_language  \\\n",
       "2             0                en   \n",
       "6      58000000                en   \n",
       "7             0                en   \n",
       "11            0                en   \n",
       "21            0                en   \n",
       "...         ...               ...   \n",
       "45461         0                fa   \n",
       "45462         0                tl   \n",
       "45463         0                en   \n",
       "45464         0                en   \n",
       "45465         0                en   \n",
       "\n",
       "                                                overview  revenue  \\\n",
       "2      A family wedding reignites the ancient feud be...      0.0   \n",
       "6      An ugly duckling having undergone a remarkable...      0.0   \n",
       "7      A mischievous young boy, Tom Sawyer, witnesses...      0.0   \n",
       "11     When a lawyer shows up at the vampire's doorst...      0.0   \n",
       "21     An agoraphobic psychologist and a female detec...      0.0   \n",
       "...                                                  ...      ...   \n",
       "45461        Rising and falling between a man and woman.      0.0   \n",
       "45462  An artist struggles to finish his work while a...      0.0   \n",
       "45463  When one of her hits goes wrong, a professiona...      0.0   \n",
       "45464  In a small town live two brothers, one a minis...      0.0   \n",
       "45465  50 years after decriminalisation of homosexual...      0.0   \n",
       "\n",
       "                                        spoken_languages  \\\n",
       "2               [{'iso_639_1': 'en', 'name': 'English'}]   \n",
       "6      [{'iso_639_1': 'fr', 'name': 'Français'}, {'is...   \n",
       "7      [{'iso_639_1': 'en', 'name': 'English'}, {'iso...   \n",
       "11     [{'iso_639_1': 'en', 'name': 'English'}, {'iso...   \n",
       "21     [{'iso_639_1': 'en', 'name': 'English'}, {'iso...   \n",
       "...                                                  ...   \n",
       "45461             [{'iso_639_1': 'fa', 'name': 'فارسی'}]   \n",
       "45462                  [{'iso_639_1': 'tl', 'name': ''}]   \n",
       "45463           [{'iso_639_1': 'en', 'name': 'English'}]   \n",
       "45464                                                 []   \n",
       "45465           [{'iso_639_1': 'en', 'name': 'English'}]   \n",
       "\n",
       "                             title  \n",
       "2                 Grumpier Old Men  \n",
       "6                          Sabrina  \n",
       "7                     Tom and Huck  \n",
       "11     Dracula: Dead and Loving It  \n",
       "21                         Copycat  \n",
       "...                            ...  \n",
       "45461                       Subdue  \n",
       "45462          Century of Birthing  \n",
       "45463                     Betrayal  \n",
       "45464             Satan Triumphant  \n",
       "45465                     Queerama  \n",
       "\n",
       "[38052 rows x 6 columns]"
      ]
     },
     "execution_count": 4,
     "metadata": {},
     "output_type": "execute_result"
    }
   ],
   "source": [
    "movies[movies['revenue']<=0]"
   ]
  },
  {
   "cell_type": "code",
   "execution_count": 5,
   "id": "33c81ce4",
   "metadata": {},
   "outputs": [],
   "source": [
    "movies['budget']=pd.to_numeric(movies['budget'],errors='coerce')\n",
    "movies.dropna(inplace=True)"
   ]
  },
  {
   "cell_type": "code",
   "execution_count": 6,
   "id": "c367577f",
   "metadata": {},
   "outputs": [
    {
     "data": {
      "text/plain": [
       "count    4.449600e+04\n",
       "mean     4.312099e+06\n",
       "std      1.760070e+07\n",
       "min      0.000000e+00\n",
       "25%      0.000000e+00\n",
       "50%      0.000000e+00\n",
       "75%      0.000000e+00\n",
       "max      3.800000e+08\n",
       "Name: budget, dtype: float64"
      ]
     },
     "execution_count": 6,
     "metadata": {},
     "output_type": "execute_result"
    }
   ],
   "source": [
    "movies['budget'].describe()"
   ]
  },
  {
   "cell_type": "code",
   "execution_count": 7,
   "id": "966c5b17",
   "metadata": {},
   "outputs": [],
   "source": [
    "movies = movies[(movies['budget']>0) & (movies['revenue']>0)]"
   ]
  },
  {
   "cell_type": "code",
   "execution_count": 8,
   "id": "49c50930",
   "metadata": {},
   "outputs": [],
   "source": [
    "movies['roi']= (movies['revenue']-movies['budget'])/movies['budget']"
   ]
  },
  {
   "cell_type": "code",
   "execution_count": 9,
   "id": "283c2d11",
   "metadata": {},
   "outputs": [],
   "source": [
    "movies = movies[(movies['roi']<=10) & (movies['roi']>=-10)]"
   ]
  },
  {
   "cell_type": "code",
   "execution_count": 10,
   "id": "1f1cf6f7",
   "metadata": {},
   "outputs": [
    {
     "data": {
      "text/plain": [
       "array(['en', 'fr', 'cn', 'ru', 'es', 'zh', 'it', 'de', 'ja', 'fa', 'pt',\n",
       "       'xx', 'da', 'ko', 'hi', 'pl', 'af', 'fi', 'th', 'nl', 'ro', 'vi',\n",
       "       'bm', 'he', 'sv', 'no', 'ta', 'nb', 'ca', 'id', 'tr', 'ml', 'hu',\n",
       "       'kn', 'is', 'te', 'mr', 'ur', 'sr'], dtype=object)"
      ]
     },
     "execution_count": 10,
     "metadata": {},
     "output_type": "execute_result"
    }
   ],
   "source": [
    "movies.original_language.unique()"
   ]
  },
  {
   "cell_type": "code",
   "execution_count": 11,
   "id": "8384aaf7",
   "metadata": {},
   "outputs": [],
   "source": [
    "from nltk.corpus import stopwords"
   ]
  },
  {
   "cell_type": "code",
   "execution_count": 12,
   "id": "fab403d6",
   "metadata": {},
   "outputs": [
    {
     "name": "stderr",
     "output_type": "stream",
     "text": [
      "[nltk_data] Downloading package punkt to\n",
      "[nltk_data]     C:\\Users\\Nicolas\\AppData\\Roaming\\nltk_data...\n",
      "[nltk_data]   Package punkt is already up-to-date!\n",
      "[nltk_data] Downloading package wordnet to\n",
      "[nltk_data]     C:\\Users\\Nicolas\\AppData\\Roaming\\nltk_data...\n",
      "[nltk_data]   Package wordnet is already up-to-date!\n",
      "[nltk_data] Downloading package stopwords to\n",
      "[nltk_data]     C:\\Users\\Nicolas\\AppData\\Roaming\\nltk_data...\n",
      "[nltk_data]   Package stopwords is already up-to-date!\n"
     ]
    }
   ],
   "source": [
    "from nltk import word_tokenize\n",
    "import nltk\n",
    "nltk.download('punkt')\n",
    "nltk.download('wordnet')\n",
    "nltk.download('stopwords') #Capaz antes de usar nltk les pide que descarguen estas cositas\n",
    "import re"
   ]
  },
  {
   "cell_type": "code",
   "execution_count": 13,
   "id": "8b570190",
   "metadata": {},
   "outputs": [],
   "source": [
    "def filtrarStepword(x):\n",
    "    stopwordsIng = set(stopwords.words('english'))\n",
    "    textoSinStopwords = \"\"\n",
    "    x = x.casefold()\n",
    "    x = re.sub(r'[^a-z0-9A-Z_]',' ',x) #Quito la puntuacion\n",
    "    oracion = x.split()\n",
    "    for palabra in oracion:\n",
    "        if palabra not in stopwordsIng:\n",
    "            textoSinStopwords = textoSinStopwords + \" \" + palabra\n",
    "    return textoSinStopwords\n",
    "movies.overview = movies.overview.map(filtrarStepword)\n",
    "movies.reset_index(inplace=True)"
   ]
  },
  {
   "cell_type": "code",
   "execution_count": 14,
   "id": "4f73349b",
   "metadata": {},
   "outputs": [],
   "source": [
    "from sklearn.feature_extraction.text import CountVectorizer\n",
    "cv = CountVectorizer(stop_words=['english'])"
   ]
  },
  {
   "cell_type": "code",
   "execution_count": 15,
   "id": "24ce4f9c",
   "metadata": {},
   "outputs": [],
   "source": [
    "count_matrix =cv.fit_transform(movies.overview)\n",
    "count_array = count_matrix.toarray()\n",
    "df = pd.DataFrame(data=count_array,columns = cv.get_feature_names_out())"
   ]
  },
  {
   "cell_type": "code",
   "execution_count": 16,
   "id": "437a6006",
   "metadata": {},
   "outputs": [],
   "source": [
    "lista=[]\n",
    "for column in df.columns:\n",
    "    if (df[column].sum()>5):\n",
    "       lista.append(column)\n",
    "df = df[lista]"
   ]
  },
  {
   "cell_type": "code",
   "execution_count": 17,
   "id": "8607cd32",
   "metadata": {},
   "outputs": [],
   "source": [
    "movies = pd.concat([movies['roi'],df],axis=1)"
   ]
  },
  {
   "cell_type": "code",
   "execution_count": 19,
   "id": "051260d0",
   "metadata": {},
   "outputs": [],
   "source": [
    "top = movies[movies.columns.difference(['roi'])].multiply(movies.roi,axis=\"index\")"
   ]
  },
  {
   "cell_type": "code",
   "execution_count": 20,
   "id": "0c38a182",
   "metadata": {},
   "outputs": [
    {
     "data": {
      "text/plain": [
       "life      1374.147470\n",
       "new       1199.657014\n",
       "one       1150.913550\n",
       "world     1026.505526\n",
       "young      947.931275\n",
       "family     912.416356\n",
       "man        870.443058\n",
       "two        831.391047\n",
       "find       791.461954\n",
       "must       774.579235\n",
       "dtype: float64"
      ]
     },
     "execution_count": 20,
     "metadata": {},
     "output_type": "execute_result"
    }
   ],
   "source": [
    "top.sum().sort_values(ascending=False).head(10)"
   ]
  },
  {
   "cell_type": "code",
   "execution_count": null,
   "id": "01d69e2e",
   "metadata": {},
   "outputs": [],
   "source": []
  }
 ],
 "metadata": {
  "kernelspec": {
   "display_name": "Python 3 (ipykernel)",
   "language": "python",
   "name": "python3"
  },
  "language_info": {
   "codemirror_mode": {
    "name": "ipython",
    "version": 3
   },
   "file_extension": ".py",
   "mimetype": "text/x-python",
   "name": "python",
   "nbconvert_exporter": "python",
   "pygments_lexer": "ipython3",
   "version": "3.9.12"
  }
 },
 "nbformat": 4,
 "nbformat_minor": 5
}
