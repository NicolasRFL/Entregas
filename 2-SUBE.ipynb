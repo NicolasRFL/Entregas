{
 "cells": [
  {
   "cell_type": "code",
   "execution_count": 1,
   "id": "09bda0d3",
   "metadata": {},
   "outputs": [],
   "source": [
    "import pandas as pd\n",
    "import seaborn as sns\n",
    "import numpy as np"
   ]
  },
  {
   "cell_type": "code",
   "execution_count": 2,
   "id": "1b2ce805",
   "metadata": {},
   "outputs": [
    {
     "data": {
      "text/html": [
       "<div>\n",
       "<style scoped>\n",
       "    .dataframe tbody tr th:only-of-type {\n",
       "        vertical-align: middle;\n",
       "    }\n",
       "\n",
       "    .dataframe tbody tr th {\n",
       "        vertical-align: top;\n",
       "    }\n",
       "\n",
       "    .dataframe thead th {\n",
       "        text-align: right;\n",
       "    }\n",
       "</style>\n",
       "<table border=\"1\" class=\"dataframe\">\n",
       "  <thead>\n",
       "    <tr style=\"text-align: right;\">\n",
       "      <th></th>\n",
       "      <th>DIA_TRANSPORTE</th>\n",
       "      <th>NOMBRE_EMPRESA</th>\n",
       "      <th>LINEA</th>\n",
       "      <th>AMBA</th>\n",
       "      <th>TIPO_TRANSPORTE</th>\n",
       "      <th>JURISDICCION</th>\n",
       "      <th>PROVINCIA</th>\n",
       "      <th>MUNICIPIO</th>\n",
       "      <th>CANTIDAD</th>\n",
       "      <th>DATO_PRELIMINAR</th>\n",
       "    </tr>\n",
       "  </thead>\n",
       "  <tbody>\n",
       "    <tr>\n",
       "      <th>0</th>\n",
       "      <td>2022-01-01</td>\n",
       "      <td>MUNICIPALIDAD DE MERCEDES PROVINCIA DE BUENOS ...</td>\n",
       "      <td>1</td>\n",
       "      <td>SI</td>\n",
       "      <td>COLECTIVO</td>\n",
       "      <td>MUNICIPAL</td>\n",
       "      <td>BUENOS AIRES</td>\n",
       "      <td>MERCEDES</td>\n",
       "      <td>10</td>\n",
       "      <td>NO</td>\n",
       "    </tr>\n",
       "    <tr>\n",
       "      <th>1</th>\n",
       "      <td>2022-01-01</td>\n",
       "      <td>MUNICIPALIDAD DE MERCEDES PROVINCIA DE BUENOS ...</td>\n",
       "      <td>2B</td>\n",
       "      <td>SI</td>\n",
       "      <td>COLECTIVO</td>\n",
       "      <td>MUNICIPAL</td>\n",
       "      <td>BUENOS AIRES</td>\n",
       "      <td>MERCEDES</td>\n",
       "      <td>19</td>\n",
       "      <td>NO</td>\n",
       "    </tr>\n",
       "    <tr>\n",
       "      <th>2</th>\n",
       "      <td>2022-01-01</td>\n",
       "      <td>EMPRESA BATAN S.A.</td>\n",
       "      <td>BS_AS_LINEA 715M</td>\n",
       "      <td>NO</td>\n",
       "      <td>COLECTIVO</td>\n",
       "      <td>MUNICIPAL</td>\n",
       "      <td>BUENOS AIRES</td>\n",
       "      <td>GENERAL PUEYRREDON</td>\n",
       "      <td>1418</td>\n",
       "      <td>NO</td>\n",
       "    </tr>\n",
       "    <tr>\n",
       "      <th>3</th>\n",
       "      <td>2022-01-01</td>\n",
       "      <td>COMPAÑIA  DE TRANSPORTE VECINAL S.A.</td>\n",
       "      <td>BS_AS_LINEA_326</td>\n",
       "      <td>SI</td>\n",
       "      <td>COLECTIVO</td>\n",
       "      <td>PROVINCIAL</td>\n",
       "      <td>BUENOS AIRES</td>\n",
       "      <td>SN</td>\n",
       "      <td>675</td>\n",
       "      <td>NO</td>\n",
       "    </tr>\n",
       "    <tr>\n",
       "      <th>4</th>\n",
       "      <td>2022-01-01</td>\n",
       "      <td>EMPRESA DE TRANSPORTE PERALTA RAMOS SACI</td>\n",
       "      <td>BS_AS_LINEA_512</td>\n",
       "      <td>NO</td>\n",
       "      <td>COLECTIVO</td>\n",
       "      <td>MUNICIPAL</td>\n",
       "      <td>BUENOS AIRES</td>\n",
       "      <td>GENERAL PUEYRREDON</td>\n",
       "      <td>1906</td>\n",
       "      <td>NO</td>\n",
       "    </tr>\n",
       "  </tbody>\n",
       "</table>\n",
       "</div>"
      ],
      "text/plain": [
       "  DIA_TRANSPORTE                                     NOMBRE_EMPRESA  \\\n",
       "0     2022-01-01  MUNICIPALIDAD DE MERCEDES PROVINCIA DE BUENOS ...   \n",
       "1     2022-01-01  MUNICIPALIDAD DE MERCEDES PROVINCIA DE BUENOS ...   \n",
       "2     2022-01-01                                 EMPRESA BATAN S.A.   \n",
       "3     2022-01-01               COMPAÑIA  DE TRANSPORTE VECINAL S.A.   \n",
       "4     2022-01-01           EMPRESA DE TRANSPORTE PERALTA RAMOS SACI   \n",
       "\n",
       "              LINEA AMBA TIPO_TRANSPORTE JURISDICCION     PROVINCIA  \\\n",
       "0                 1   SI       COLECTIVO    MUNICIPAL  BUENOS AIRES   \n",
       "1                2B   SI       COLECTIVO    MUNICIPAL  BUENOS AIRES   \n",
       "2  BS_AS_LINEA 715M   NO       COLECTIVO    MUNICIPAL  BUENOS AIRES   \n",
       "3   BS_AS_LINEA_326   SI       COLECTIVO   PROVINCIAL  BUENOS AIRES   \n",
       "4   BS_AS_LINEA_512   NO       COLECTIVO    MUNICIPAL  BUENOS AIRES   \n",
       "\n",
       "            MUNICIPIO  CANTIDAD DATO_PRELIMINAR  \n",
       "0            MERCEDES        10              NO  \n",
       "1            MERCEDES        19              NO  \n",
       "2  GENERAL PUEYRREDON      1418              NO  \n",
       "3                  SN       675              NO  \n",
       "4  GENERAL PUEYRREDON      1906              NO  "
      ]
     },
     "execution_count": 2,
     "metadata": {},
     "output_type": "execute_result"
    }
   ],
   "source": [
    "sube = pd.read_csv(r\"C:\\Users\\Nicolas\\Downloads\\Movie dataset\\dat-ab-usos-2022.csv\")\n",
    "sube.head()"
   ]
  },
  {
   "cell_type": "code",
   "execution_count": 3,
   "id": "a1fe64a8",
   "metadata": {},
   "outputs": [],
   "source": [
    "sube.CANTIDAD = pd.to_numeric(sube.CANTIDAD)"
   ]
  },
  {
   "cell_type": "code",
   "execution_count": 4,
   "id": "54ab3a88",
   "metadata": {},
   "outputs": [],
   "source": [
    "sg = sube[sube['TIPO_TRANSPORTE']=='COLECTIVO'].copy()"
   ]
  },
  {
   "cell_type": "code",
   "execution_count": 5,
   "id": "0223bff1",
   "metadata": {},
   "outputs": [],
   "source": [
    "sg['DIA_TRANSPORTE'] = pd.to_datetime(sg['DIA_TRANSPORTE'])\n",
    "sg['Dia de la semana'] = sg['DIA_TRANSPORTE'].dt.day_name()"
   ]
  },
  {
   "cell_type": "code",
   "execution_count": 6,
   "id": "a401cc81",
   "metadata": {},
   "outputs": [],
   "source": [
    "sg = sg[sg['PROVINCIA']!='JN']"
   ]
  },
  {
   "cell_type": "code",
   "execution_count": 7,
   "id": "14ca8046",
   "metadata": {},
   "outputs": [
    {
     "data": {
      "text/plain": [
       "array(['Sabado', 'Domingo', 'Lunes', 'Martes', 'Miercoles', 'Jueves',\n",
       "       'Viernes'], dtype=object)"
      ]
     },
     "execution_count": 7,
     "metadata": {},
     "output_type": "execute_result"
    }
   ],
   "source": [
    "Dias={'Sunday':'Domingo','Monday':'Lunes','Tuesday':'Martes','Thursday':'Jueves','Wednesday':'Miercoles','Saturday':'Sabado','Friday':'Viernes'}\n",
    "sg['Dia de la semana'] = sg['Dia de la semana'].map(lambda x:Dias[x])\n",
    "sg['Dia de la semana'].unique()"
   ]
  },
  {
   "cell_type": "code",
   "execution_count": 8,
   "id": "5771ac48",
   "metadata": {},
   "outputs": [],
   "source": [
    "sg = sg.groupby(['PROVINCIA','Dia de la semana']).agg({'CANTIDAD':'sum','LINEA':'nunique'})"
   ]
  },
  {
   "cell_type": "code",
   "execution_count": 9,
   "id": "fe907cd9",
   "metadata": {},
   "outputs": [],
   "source": [
    "sg['CANTIDAD'] = sg['CANTIDAD']/sg['LINEA']"
   ]
  },
  {
   "cell_type": "code",
   "execution_count": 10,
   "id": "578a9aa9",
   "metadata": {},
   "outputs": [],
   "source": [
    "sg = sg.drop('LINEA',axis=1)"
   ]
  },
  {
   "cell_type": "code",
   "execution_count": 11,
   "id": "1926b9f4",
   "metadata": {},
   "outputs": [],
   "source": [
    "sg = sg.unstack()\n",
    "sg.columns = sg.columns.droplevel()"
   ]
  },
  {
   "cell_type": "code",
   "execution_count": 12,
   "id": "d7ebfd15",
   "metadata": {},
   "outputs": [],
   "source": [
    "sg = sg[['Lunes','Martes','Miercoles','Jueves','Viernes','Sabado','Domingo']]"
   ]
  },
  {
   "cell_type": "code",
   "execution_count": 13,
   "id": "87d3efaa",
   "metadata": {},
   "outputs": [
    {
     "data": {
      "text/plain": [
       "Text(0.5, 87.0, 'Dia de la semana')"
      ]
     },
     "execution_count": 13,
     "metadata": {},
     "output_type": "execute_result"
    },
    {
     "data": {
      "image/png": "[encoded data removed]",
      "text/plain": [
       "<Figure size 1080x864 with 2 Axes>"
      ]
     },
     "metadata": {
      "needs_background": "light"
     },
     "output_type": "display_data"
    }
   ],
   "source": [
    "from matplotlib import pyplot as plt\n",
    "colormap = sns.color_palette(\"Greens\")\n",
    "plt.figure(figsize=(15,12))\n",
    "ax = sns.heatmap(sg,cmap=colormap)\n",
    "plt.title('Cantidad de transacciones en colectivos por linea, segun día de semana y provincia',fontsize=20)\n",
    "ax.set_ylabel(\"Provincia\",fontsize=20)\n",
    "ax.set_xlabel(\"Dia de la semana\",fontsize=20)"
   ]
  },
  {
   "cell_type": "code",
   "execution_count": 14,
   "id": "52d13968",
   "metadata": {},
   "outputs": [],
   "source": [
    "sube=sube[((sube['TIPO_TRANSPORTE']=='COLECTIVO') | (sube['TIPO_TRANSPORTE']=='SUBTE')) & (sube['AMBA']=='SI')]"
   ]
  },
  {
   "cell_type": "code",
   "execution_count": 15,
   "id": "24dee7ab",
   "metadata": {},
   "outputs": [],
   "source": [
    "sube['DIA_TRANSPORTE'] = pd.to_datetime(sube['DIA_TRANSPORTE'])\n",
    "sube['Dia de la semana'] = sube['DIA_TRANSPORTE'].dt.day_name()"
   ]
  },
  {
   "cell_type": "code",
   "execution_count": 16,
   "id": "2de1a7d0",
   "metadata": {},
   "outputs": [],
   "source": [
    "Dias={'Sunday':'Domingo','Monday':'Lunes','Tuesday':'Martes','Thursday':'Jueves','Wednesday':'Miercoles','Saturday':'Sabado','Friday':'Viernes'}\n",
    "sube['Dia de la semana'] = sube['Dia de la semana'].map(lambda x:Dias[x])"
   ]
  },
  {
   "cell_type": "code",
   "execution_count": 20,
   "id": "697f7f05",
   "metadata": {},
   "outputs": [],
   "source": [
    "sube = sube.groupby(['Dia de la semana','TIPO_TRANSPORTE']).agg('sum').reset_index()"
   ]
  },
  {
   "cell_type": "code",
   "execution_count": 25,
   "id": "38761aa9",
   "metadata": {},
   "outputs": [
    {
     "data": {
      "text/html": [
       "<div>\n",
       "<style scoped>\n",
       "    .dataframe tbody tr th:only-of-type {\n",
       "        vertical-align: middle;\n",
       "    }\n",
       "\n",
       "    .dataframe tbody tr th {\n",
       "        vertical-align: top;\n",
       "    }\n",
       "\n",
       "    .dataframe thead th {\n",
       "        text-align: right;\n",
       "    }\n",
       "</style>\n",
       "<table border=\"1\" class=\"dataframe\">\n",
       "  <thead>\n",
       "    <tr style=\"text-align: right;\">\n",
       "      <th></th>\n",
       "      <th>Dia de la semana</th>\n",
       "      <th>TIPO_TRANSPORTE</th>\n",
       "      <th>CANTIDAD</th>\n",
       "    </tr>\n",
       "  </thead>\n",
       "  <tbody>\n",
       "    <tr>\n",
       "      <th>0</th>\n",
       "      <td>Domingo</td>\n",
       "      <td>COLECTIVO</td>\n",
       "      <td>119856107</td>\n",
       "    </tr>\n",
       "    <tr>\n",
       "      <th>1</th>\n",
       "      <td>Domingo</td>\n",
       "      <td>SUBTE</td>\n",
       "      <td>8034370</td>\n",
       "    </tr>\n",
       "    <tr>\n",
       "      <th>2</th>\n",
       "      <td>Jueves</td>\n",
       "      <td>COLECTIVO</td>\n",
       "      <td>322905563</td>\n",
       "    </tr>\n",
       "    <tr>\n",
       "      <th>3</th>\n",
       "      <td>Jueves</td>\n",
       "      <td>SUBTE</td>\n",
       "      <td>28813606</td>\n",
       "    </tr>\n",
       "    <tr>\n",
       "      <th>4</th>\n",
       "      <td>Lunes</td>\n",
       "      <td>COLECTIVO</td>\n",
       "      <td>306541079</td>\n",
       "    </tr>\n",
       "    <tr>\n",
       "      <th>5</th>\n",
       "      <td>Lunes</td>\n",
       "      <td>SUBTE</td>\n",
       "      <td>25004956</td>\n",
       "    </tr>\n",
       "    <tr>\n",
       "      <th>6</th>\n",
       "      <td>Martes</td>\n",
       "      <td>COLECTIVO</td>\n",
       "      <td>326788506</td>\n",
       "    </tr>\n",
       "    <tr>\n",
       "      <th>7</th>\n",
       "      <td>Martes</td>\n",
       "      <td>SUBTE</td>\n",
       "      <td>28055767</td>\n",
       "    </tr>\n",
       "    <tr>\n",
       "      <th>8</th>\n",
       "      <td>Miercoles</td>\n",
       "      <td>COLECTIVO</td>\n",
       "      <td>316317372</td>\n",
       "    </tr>\n",
       "    <tr>\n",
       "      <th>9</th>\n",
       "      <td>Miercoles</td>\n",
       "      <td>SUBTE</td>\n",
       "      <td>27316997</td>\n",
       "    </tr>\n",
       "    <tr>\n",
       "      <th>10</th>\n",
       "      <td>Sabado</td>\n",
       "      <td>COLECTIVO</td>\n",
       "      <td>206506511</td>\n",
       "    </tr>\n",
       "    <tr>\n",
       "      <th>11</th>\n",
       "      <td>Sabado</td>\n",
       "      <td>SUBTE</td>\n",
       "      <td>14423324</td>\n",
       "    </tr>\n",
       "    <tr>\n",
       "      <th>12</th>\n",
       "      <td>Viernes</td>\n",
       "      <td>COLECTIVO</td>\n",
       "      <td>321713199</td>\n",
       "    </tr>\n",
       "    <tr>\n",
       "      <th>13</th>\n",
       "      <td>Viernes</td>\n",
       "      <td>SUBTE</td>\n",
       "      <td>27224898</td>\n",
       "    </tr>\n",
       "  </tbody>\n",
       "</table>\n",
       "</div>"
      ],
      "text/plain": [
       "   Dia de la semana TIPO_TRANSPORTE   CANTIDAD\n",
       "0           Domingo       COLECTIVO  119856107\n",
       "1           Domingo           SUBTE    8034370\n",
       "2            Jueves       COLECTIVO  322905563\n",
       "3            Jueves           SUBTE   28813606\n",
       "4             Lunes       COLECTIVO  306541079\n",
       "5             Lunes           SUBTE   25004956\n",
       "6            Martes       COLECTIVO  326788506\n",
       "7            Martes           SUBTE   28055767\n",
       "8         Miercoles       COLECTIVO  316317372\n",
       "9         Miercoles           SUBTE   27316997\n",
       "10           Sabado       COLECTIVO  206506511\n",
       "11           Sabado           SUBTE   14423324\n",
       "12          Viernes       COLECTIVO  321713199\n",
       "13          Viernes           SUBTE   27224898"
      ]
     },
     "execution_count": 25,
     "metadata": {},
     "output_type": "execute_result"
    }
   ],
   "source": [
    "sube"
   ]
  },
  {
   "cell_type": "code",
   "execution_count": 31,
   "id": "d44572cb",
   "metadata": {},
   "outputs": [
    {
     "data": {
      "text/plain": [
       "Text(0.5, 0, 'Dia de la semana')"
      ]
     },
     "execution_count": 31,
     "metadata": {},
     "output_type": "execute_result"
    },
    {
     "data": {
      "image/png": "[encoded data removed]",
      "text/plain": [
       "<Figure size 1080x864 with 1 Axes>"
      ]
     },
     "metadata": {
      "needs_background": "light"
     },
     "output_type": "display_data"
    }
   ],
   "source": [
    "from matplotlib import pyplot as plt\n",
    "plt.figure(figsize=(15,12))\n",
    "ax = sns.barplot(x=sube['Dia de la semana'],y=sube['CANTIDAD'],hue=sube['TIPO_TRANSPORTE'],palette={'COLECTIVO':'#05712F','SUBTE':'#69A7FF'},\n",
    "            order=['Lunes','Martes','Miercoles','Jueves','Viernes','Sabado','Domingo'])\n",
    "plt.title('Cantidad de transacciones por dia de semana',fontsize=20)\n",
    "plt.legend(title='Tipo de transporte',fontsize='x-large', title_fontsize='20',loc='upper right')\n",
    "ax.set_ylabel(\"Cantidad\",fontsize=20)\n",
    "ax.set_xlabel(\"Dia de la semana\",fontsize=20)"
   ]
  },
  {
   "cell_type": "code",
   "execution_count": null,
   "id": "871a06c8",
   "metadata": {},
   "outputs": [],
   "source": []
  }
 ],
 "metadata": {
  "kernelspec": {
   "display_name": "Python 3 (ipykernel)",
   "language": "python",
   "name": "python3"
  },
  "language_info": {
   "codemirror_mode": {
    "name": "ipython",
    "version": 3
   },
   "file_extension": ".py",
   "mimetype": "text/x-python",
   "name": "python",
   "nbconvert_exporter": "python",
   "pygments_lexer": "ipython3",
   "version": "3.9.12"
  }
 },
 "nbformat": 4,
 "nbformat_minor": 5
}
